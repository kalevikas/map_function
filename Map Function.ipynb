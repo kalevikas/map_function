{
 "cells": [
  {
   "cell_type": "markdown",
   "id": "9d7b0cc1",
   "metadata": {},
   "source": [
    "## write a program to check even or odd"
   ]
  },
  {
   "cell_type": "markdown",
   "id": "9c6ac413",
   "metadata": {},
   "source": [
    "### method 1"
   ]
  },
  {
   "cell_type": "code",
   "execution_count": 1,
   "id": "882d2c76",
   "metadata": {},
   "outputs": [],
   "source": [
    "def check(num):\n",
    "    return num%2==0"
   ]
  },
  {
   "cell_type": "code",
   "execution_count": 2,
   "id": "4fae341d",
   "metadata": {},
   "outputs": [
    {
     "data": {
      "text/plain": [
       "True"
      ]
     },
     "execution_count": 2,
     "metadata": {},
     "output_type": "execute_result"
    }
   ],
   "source": [
    "check(4)"
   ]
  },
  {
   "cell_type": "code",
   "execution_count": 3,
   "id": "432130ce",
   "metadata": {},
   "outputs": [
    {
     "data": {
      "text/plain": [
       "False"
      ]
     },
     "execution_count": 3,
     "metadata": {},
     "output_type": "execute_result"
    }
   ],
   "source": [
    "check(3)"
   ]
  },
  {
   "cell_type": "markdown",
   "id": "054f38c5",
   "metadata": {},
   "source": [
    "### method 2"
   ]
  },
  {
   "cell_type": "code",
   "execution_count": 13,
   "id": "e3fd2463",
   "metadata": {},
   "outputs": [],
   "source": [
    "def number(n):\n",
    "    if n%2==0:\n",
    "        print(n,\"is even\")\n",
    "    else:\n",
    "        print(n,\"is odd\")"
   ]
  },
  {
   "cell_type": "code",
   "execution_count": 14,
   "id": "340f3f67",
   "metadata": {},
   "outputs": [
    {
     "name": "stdout",
     "output_type": "stream",
     "text": [
      "5 is odd\n"
     ]
    }
   ],
   "source": [
    "number(5)"
   ]
  },
  {
   "cell_type": "code",
   "execution_count": 15,
   "id": "a6464543",
   "metadata": {},
   "outputs": [
    {
     "name": "stdout",
     "output_type": "stream",
     "text": [
      "8 is even\n"
     ]
    }
   ],
   "source": [
    "number(8)"
   ]
  },
  {
   "cell_type": "markdown",
   "id": "b920b33e",
   "metadata": {},
   "source": [
    "### method 3:  By using lambda function"
   ]
  },
  {
   "cell_type": "code",
   "execution_count": 7,
   "id": "e780caee",
   "metadata": {},
   "outputs": [],
   "source": [
    "x=lambda num:\"%d is even.\" %(num) if num%2==0 else \"%d is odd.\" %(num)"
   ]
  },
  {
   "cell_type": "code",
   "execution_count": 8,
   "id": "13ac9203",
   "metadata": {},
   "outputs": [
    {
     "data": {
      "text/plain": [
       "'4 is even.'"
      ]
     },
     "execution_count": 8,
     "metadata": {},
     "output_type": "execute_result"
    }
   ],
   "source": [
    "x(4)"
   ]
  },
  {
   "cell_type": "code",
   "execution_count": 9,
   "id": "cd7decdb",
   "metadata": {},
   "outputs": [
    {
     "data": {
      "text/plain": [
       "'9 is odd.'"
      ]
     },
     "execution_count": 9,
     "metadata": {},
     "output_type": "execute_result"
    }
   ],
   "source": [
    "x(9)"
   ]
  },
  {
   "cell_type": "markdown",
   "id": "9749bedb",
   "metadata": {},
   "source": [
    "### By using map function."
   ]
  },
  {
   "cell_type": "code",
   "execution_count": 10,
   "id": "69833fab",
   "metadata": {},
   "outputs": [],
   "source": [
    "outp=list(map(x,[i for i in range(1,21)]))"
   ]
  },
  {
   "cell_type": "code",
   "execution_count": 11,
   "id": "c99a74d9",
   "metadata": {},
   "outputs": [
    {
     "data": {
      "text/plain": [
       "['1 is odd.',\n",
       " '2 is even.',\n",
       " '3 is odd.',\n",
       " '4 is even.',\n",
       " '5 is odd.',\n",
       " '6 is even.',\n",
       " '7 is odd.',\n",
       " '8 is even.',\n",
       " '9 is odd.',\n",
       " '10 is even.',\n",
       " '11 is odd.',\n",
       " '12 is even.',\n",
       " '13 is odd.',\n",
       " '14 is even.',\n",
       " '15 is odd.',\n",
       " '16 is even.',\n",
       " '17 is odd.',\n",
       " '18 is even.',\n",
       " '19 is odd.',\n",
       " '20 is even.']"
      ]
     },
     "execution_count": 11,
     "metadata": {},
     "output_type": "execute_result"
    }
   ],
   "source": [
    "outp"
   ]
  },
  {
   "cell_type": "markdown",
   "id": "4183626e",
   "metadata": {},
   "source": [
    "### In method 2 we define number function already"
   ]
  },
  {
   "cell_type": "code",
   "execution_count": 16,
   "id": "a46e22ef",
   "metadata": {},
   "outputs": [
    {
     "name": "stdout",
     "output_type": "stream",
     "text": [
      "41 is odd\n",
      "23 is odd\n",
      "65 is odd\n",
      "66 is even\n",
      "84 is even\n",
      "85 is odd\n",
      "71 is odd\n",
      "92 is even\n",
      "100 is even\n"
     ]
    }
   ],
   "source": [
    "h=list(map(number,[41,23,65,66,84,85,71,92,100]))"
   ]
  },
  {
   "cell_type": "code",
   "execution_count": 18,
   "id": "960a03d6",
   "metadata": {},
   "outputs": [
    {
     "name": "stdout",
     "output_type": "stream",
     "text": [
      "50 is even\n",
      "51 is odd\n",
      "52 is even\n",
      "53 is odd\n",
      "54 is even\n",
      "55 is odd\n",
      "56 is even\n",
      "57 is odd\n",
      "58 is even\n",
      "59 is odd\n",
      "60 is even\n"
     ]
    }
   ],
   "source": [
    "m=list(map(number,[i for i in range(50,61)]))"
   ]
  },
  {
   "cell_type": "markdown",
   "id": "d3714f82",
   "metadata": {},
   "source": [
    "### Write a program to square a numbers in list.\n",
    "- list1=[4,3,2,1]\n",
    "\n",
    "- output will be [16,9,4,1]"
   ]
  },
  {
   "cell_type": "code",
   "execution_count": 19,
   "id": "a279f671",
   "metadata": {},
   "outputs": [],
   "source": [
    "def square(num):\n",
    "    return num**2"
   ]
  },
  {
   "cell_type": "code",
   "execution_count": 20,
   "id": "d57f5fda",
   "metadata": {},
   "outputs": [
    {
     "data": {
      "text/plain": [
       "16"
      ]
     },
     "execution_count": 20,
     "metadata": {},
     "output_type": "execute_result"
    }
   ],
   "source": [
    "square(4)"
   ]
  },
  {
   "cell_type": "code",
   "execution_count": 21,
   "id": "06fdabfd",
   "metadata": {},
   "outputs": [
    {
     "data": {
      "text/plain": [
       "9"
      ]
     },
     "execution_count": 21,
     "metadata": {},
     "output_type": "execute_result"
    }
   ],
   "source": [
    "square(3)"
   ]
  },
  {
   "cell_type": "code",
   "execution_count": 25,
   "id": "80414984",
   "metadata": {},
   "outputs": [
    {
     "name": "stdout",
     "output_type": "stream",
     "text": [
      "[16, 9, 4, 1]\n"
     ]
    }
   ],
   "source": [
    "list1=[4,3,2,1]\n",
    "square=[]\n",
    "for i in list1:\n",
    "    square.append(i**2)\n",
    "print(square)\n",
    "    "
   ]
  },
  {
   "cell_type": "code",
   "execution_count": 34,
   "id": "64f1c7db",
   "metadata": {},
   "outputs": [
    {
     "data": {
      "text/plain": [
       "[16, 9, 4, 1]"
      ]
     },
     "execution_count": 34,
     "metadata": {},
     "output_type": "execute_result"
    }
   ],
   "source": [
    "def abc(n):\n",
    "    squar=[]\n",
    "    \n",
    "    for i in n:\n",
    "        squar.append(i**2)\n",
    "    return squar\n",
    "abc([4,3,2,1])"
   ]
  },
  {
   "cell_type": "code",
   "execution_count": 39,
   "id": "f3b73f62",
   "metadata": {},
   "outputs": [],
   "source": [
    "result=lambda num:num**2"
   ]
  },
  {
   "cell_type": "code",
   "execution_count": 40,
   "id": "1ce9babe",
   "metadata": {},
   "outputs": [
    {
     "data": {
      "text/plain": [
       "25"
      ]
     },
     "execution_count": 40,
     "metadata": {},
     "output_type": "execute_result"
    }
   ],
   "source": [
    "result(5)"
   ]
  },
  {
   "cell_type": "code",
   "execution_count": 41,
   "id": "4546412a",
   "metadata": {},
   "outputs": [
    {
     "data": {
      "text/plain": [
       "16"
      ]
     },
     "execution_count": 41,
     "metadata": {},
     "output_type": "execute_result"
    }
   ],
   "source": [
    "result(4)"
   ]
  },
  {
   "cell_type": "code",
   "execution_count": 59,
   "id": "e5d1cea4",
   "metadata": {},
   "outputs": [
    {
     "name": "stdout",
     "output_type": "stream",
     "text": [
      "[16, 9, 4, 1]\n"
     ]
    }
   ],
   "source": [
    "num=[4,3,2,1]\n",
    "print(list(map(lambda a:a**2,num)))"
   ]
  },
  {
   "cell_type": "code",
   "execution_count": 60,
   "id": "8cb0b225",
   "metadata": {},
   "outputs": [
    {
     "name": "stdout",
     "output_type": "stream",
     "text": [
      "[1, 4, 9, 16, 25]\n"
     ]
    }
   ],
   "source": [
    "num2=[1,2,3,4,5]\n",
    "print(list(map(lambda b:b**2,num2)))"
   ]
  },
  {
   "cell_type": "markdown",
   "id": "7d9ac3f4",
   "metadata": {},
   "source": [
    "## Write a program to convert celcius to farenheit.\n",
    "\n",
    "- Formula:- F=(9/5)*celcius+32"
   ]
  },
  {
   "cell_type": "code",
   "execution_count": 1,
   "id": "8bede78d",
   "metadata": {},
   "outputs": [],
   "source": [
    "tem=[('Pune',32),('Solapur',40),('Tuljapur',23),(\"Osmanabad\",24),('Mumbai',35),('Satara',28)]"
   ]
  },
  {
   "cell_type": "code",
   "execution_count": 2,
   "id": "ea5216a1",
   "metadata": {},
   "outputs": [],
   "source": [
    "cel_to_faren=lambda data:(data[0],(9/5)*data[1]+32)"
   ]
  },
  {
   "cell_type": "code",
   "execution_count": 3,
   "id": "7b2d9e1a",
   "metadata": {},
   "outputs": [],
   "source": [
    "result=list(map(cel_to_faren,tem))"
   ]
  },
  {
   "cell_type": "code",
   "execution_count": 4,
   "id": "f50334ab",
   "metadata": {},
   "outputs": [
    {
     "data": {
      "text/plain": [
       "[('Pune', 89.6),\n",
       " ('Solapur', 104.0),\n",
       " ('Tuljapur', 73.4),\n",
       " ('Osmanabad', 75.2),\n",
       " ('Mumbai', 95.0),\n",
       " ('Satara', 82.4)]"
      ]
     },
     "execution_count": 4,
     "metadata": {},
     "output_type": "execute_result"
    }
   ],
   "source": [
    "result"
   ]
  },
  {
   "cell_type": "markdown",
   "id": "2b2fd2ee",
   "metadata": {},
   "source": [
    "# Convert farenheit to celcius\n",
    "\n",
    "- Formula:-  C=(5/9)*(F-32)"
   ]
  },
  {
   "cell_type": "code",
   "execution_count": 9,
   "id": "682d5ae8",
   "metadata": {},
   "outputs": [],
   "source": [
    "f_to_c=lambda result:(result[0],(5/9)*(result[1]-32))"
   ]
  },
  {
   "cell_type": "code",
   "execution_count": 16,
   "id": "99d61b2b",
   "metadata": {},
   "outputs": [
    {
     "data": {
      "text/plain": [
       "[('Pune', 32.0),\n",
       " ('Solapur', 40.0),\n",
       " ('Tuljapur', 23.000000000000004),\n",
       " ('Osmanabad', 24.000000000000004),\n",
       " ('Mumbai', 35.0),\n",
       " ('Satara', 28.000000000000004)]"
      ]
     },
     "execution_count": 16,
     "metadata": {},
     "output_type": "execute_result"
    }
   ],
   "source": [
    "list(map(f_to_c,result))"
   ]
  },
  {
   "cell_type": "code",
   "execution_count": null,
   "id": "a14df27e",
   "metadata": {},
   "outputs": [],
   "source": []
  },
  {
   "cell_type": "code",
   "execution_count": 11,
   "id": "be1b649f",
   "metadata": {},
   "outputs": [
    {
     "name": "stdout",
     "output_type": "stream",
     "text": [
      "20.55555552\n"
     ]
    }
   ],
   "source": [
    "x=20.55555552\n",
    "format(x,'.2f')\n",
    "print(x)"
   ]
  },
  {
   "cell_type": "code",
   "execution_count": 13,
   "id": "b35ca2f3",
   "metadata": {},
   "outputs": [
    {
     "name": "stdout",
     "output_type": "stream",
     "text": [
      "20.56\n"
     ]
    }
   ],
   "source": [
    "print('%.2f'%x)"
   ]
  },
  {
   "cell_type": "code",
   "execution_count": 25,
   "id": "085e680a",
   "metadata": {},
   "outputs": [
    {
     "ename": "TypeError",
     "evalue": "must be real number, not list",
     "output_type": "error",
     "traceback": [
      "\u001b[1;31m---------------------------------------------------------------------------\u001b[0m",
      "\u001b[1;31mTypeError\u001b[0m                                 Traceback (most recent call last)",
      "\u001b[1;32m<ipython-input-25-d20aa71ab610>\u001b[0m in \u001b[0;36m<module>\u001b[1;34m\u001b[0m\n\u001b[0;32m      1\u001b[0m \u001b[0mresult1\u001b[0m\u001b[1;33m=\u001b[0m\u001b[0mlist\u001b[0m\u001b[1;33m(\u001b[0m\u001b[0mmap\u001b[0m\u001b[1;33m(\u001b[0m\u001b[0mf_to_c\u001b[0m\u001b[1;33m,\u001b[0m\u001b[0mresult\u001b[0m\u001b[1;33m)\u001b[0m\u001b[1;33m)\u001b[0m\u001b[1;33m\u001b[0m\u001b[1;33m\u001b[0m\u001b[0m\n\u001b[1;32m----> 2\u001b[1;33m \u001b[0mprint\u001b[0m\u001b[1;33m(\u001b[0m\u001b[1;34m'%.2f'\u001b[0m\u001b[1;33m%\u001b[0m\u001b[0mresult1\u001b[0m\u001b[1;33m)\u001b[0m\u001b[1;33m\u001b[0m\u001b[1;33m\u001b[0m\u001b[0m\n\u001b[0m",
      "\u001b[1;31mTypeError\u001b[0m: must be real number, not list"
     ]
    }
   ],
   "source": [
    "result1=list(map(f_to_c,result))\n",
    "print('%.2f'%result1)"
   ]
  },
  {
   "cell_type": "markdown",
   "id": "d05a39b0",
   "metadata": {},
   "source": [
    "# Write a program to calculate area of circle for different radius.\n",
    "- Formula:- \n",
    "            Area of circle=pi*r**2\n",
    "            r=Radius\n",
    "            pi=3.14"
   ]
  },
  {
   "cell_type": "markdown",
   "id": "4c26b649",
   "metadata": {},
   "source": [
    "### Method 1: Normal Way"
   ]
  },
  {
   "cell_type": "code",
   "execution_count": 26,
   "id": "3a2a55c4",
   "metadata": {},
   "outputs": [
    {
     "name": "stdout",
     "output_type": "stream",
     "text": [
      "[12.566370614359172, 28.274333882308138, 50.26548245743669, 78.53981633974483, 113.09733552923255, 153.93804002589985, 201.06192982974676, 254.46900494077323]\n"
     ]
    }
   ],
   "source": [
    "import math              # First we need to import math module.\n",
    "radii=[2,3,4,5,6,7,8,9]  # list of radius\n",
    "r=[]                     # create empty list with variable r.\n",
    "for i in radii:          # to access each element in radii use for loop.\n",
    "    result=math.pi*i**2   # formula to calculate area of circle.\n",
    "    r.append(result)      # append result of each radius in r list.\n",
    "print(r)                   # print r.\n",
    "    "
   ]
  },
  {
   "cell_type": "markdown",
   "id": "6f68a7fa",
   "metadata": {},
   "source": [
    "### Method 2: Using Function"
   ]
  },
  {
   "cell_type": "code",
   "execution_count": 27,
   "id": "9bdd8a0f",
   "metadata": {},
   "outputs": [],
   "source": [
    "import math\n",
    "def area(r):\n",
    "    \"\"\"\n",
    "    Calculate area of circle with radius r.\n",
    "    \n",
    "    Formula:- area of circle=pi*r**2\n",
    "    \n",
    "    \"\"\"\n",
    "    result=math.pi*r**2\n",
    "    return result\n",
    "    "
   ]
  },
  {
   "cell_type": "code",
   "execution_count": 28,
   "id": "bb048cc2",
   "metadata": {},
   "outputs": [
    {
     "data": {
      "text/plain": [
       "12.566370614359172"
      ]
     },
     "execution_count": 28,
     "metadata": {},
     "output_type": "execute_result"
    }
   ],
   "source": [
    "area(2)"
   ]
  },
  {
   "cell_type": "code",
   "execution_count": 33,
   "id": "07bdf70c",
   "metadata": {},
   "outputs": [
    {
     "name": "stdout",
     "output_type": "stream",
     "text": [
      "12.57\n"
     ]
    }
   ],
   "source": [
    "print(\"%.2f\"%area(2))  # format(value,\".nf\")  where n=number of decimal places you want."
   ]
  },
  {
   "cell_type": "code",
   "execution_count": 29,
   "id": "32e5e90d",
   "metadata": {},
   "outputs": [
    {
     "data": {
      "text/plain": [
       "78.53981633974483"
      ]
     },
     "execution_count": 29,
     "metadata": {},
     "output_type": "execute_result"
    }
   ],
   "source": [
    "area(5)"
   ]
  },
  {
   "cell_type": "code",
   "execution_count": 32,
   "id": "a1f4aaed",
   "metadata": {},
   "outputs": [
    {
     "name": "stdout",
     "output_type": "stream",
     "text": [
      "78.54\n"
     ]
    }
   ],
   "source": [
    "print(\"%.2f\"%area(5))"
   ]
  },
  {
   "cell_type": "code",
   "execution_count": 34,
   "id": "444fcbfb",
   "metadata": {},
   "outputs": [
    {
     "name": "stdout",
     "output_type": "stream",
     "text": [
      "Help on function area in module __main__:\n",
      "\n",
      "area(r)\n",
      "    Calculate area of circle with radius r.\n",
      "    \n",
      "    Formula:- area of circle=pi*r**2\n",
      "\n"
     ]
    }
   ],
   "source": [
    "help(area)"
   ]
  },
  {
   "cell_type": "code",
   "execution_count": 35,
   "id": "105edce0",
   "metadata": {},
   "outputs": [
    {
     "name": "stdout",
     "output_type": "stream",
     "text": [
      "['In', 'Out', '_', '_16', '_28', '_29', '_30', '_4', '_6', '_7', '__', '___', '__builtin__', '__builtins__', '__doc__', '__loader__', '__name__', '__package__', '__spec__', '_dh', '_i', '_i1', '_i10', '_i11', '_i12', '_i13', '_i14', '_i15', '_i16', '_i17', '_i18', '_i19', '_i2', '_i20', '_i21', '_i22', '_i23', '_i24', '_i25', '_i26', '_i27', '_i28', '_i29', '_i3', '_i30', '_i31', '_i32', '_i33', '_i34', '_i35', '_i4', '_i5', '_i6', '_i7', '_i8', '_i9', '_ih', '_ii', '_iii', '_oh', 'area', 'cel_to_faren', 'exit', 'f_to_c', 'get_ipython', 'i', 'math', 'quit', 'r', 'radii', 'result', 'result1', 'tem', 'x']\n"
     ]
    }
   ],
   "source": [
    "print(dir())"
   ]
  },
  {
   "cell_type": "markdown",
   "id": "73495dd6",
   "metadata": {},
   "source": [
    "### Method 3:Using lambda and map.\n",
    "- syntax for lambda:-  \n",
    "                       lambda variable:expression\n",
    "- syntax for map:-\n",
    "                     map(function,iterable or variables or data types)"
   ]
  },
  {
   "cell_type": "code",
   "execution_count": 41,
   "id": "934d59c0",
   "metadata": {},
   "outputs": [],
   "source": [
    "r=[2,3,4,5,6,7,8,9,10]"
   ]
  },
  {
   "cell_type": "code",
   "execution_count": 42,
   "id": "de0fbe24",
   "metadata": {},
   "outputs": [],
   "source": [
    "area_of_circle=lambda r:(math.pi*r**2)\n"
   ]
  },
  {
   "cell_type": "code",
   "execution_count": 43,
   "id": "e486c7eb",
   "metadata": {},
   "outputs": [],
   "source": [
    "result2=list(map(area_of_circle,r))"
   ]
  },
  {
   "cell_type": "code",
   "execution_count": 44,
   "id": "f165ebab",
   "metadata": {},
   "outputs": [
    {
     "data": {
      "text/plain": [
       "[12.566370614359172,\n",
       " 28.274333882308138,\n",
       " 50.26548245743669,\n",
       " 78.53981633974483,\n",
       " 113.09733552923255,\n",
       " 153.93804002589985,\n",
       " 201.06192982974676,\n",
       " 254.46900494077323,\n",
       " 314.1592653589793]"
      ]
     },
     "execution_count": 44,
     "metadata": {},
     "output_type": "execute_result"
    }
   ],
   "source": [
    "result2"
   ]
  },
  {
   "cell_type": "code",
   "execution_count": 45,
   "id": "aa209da4",
   "metadata": {},
   "outputs": [
    {
     "ename": "TypeError",
     "evalue": "must be real number, not list",
     "output_type": "error",
     "traceback": [
      "\u001b[1;31m---------------------------------------------------------------------------\u001b[0m",
      "\u001b[1;31mTypeError\u001b[0m                                 Traceback (most recent call last)",
      "\u001b[1;32m<ipython-input-45-394733945037>\u001b[0m in \u001b[0;36m<module>\u001b[1;34m\u001b[0m\n\u001b[1;32m----> 1\u001b[1;33m \u001b[0mprint\u001b[0m\u001b[1;33m(\u001b[0m\u001b[1;34m\"%.2f\"\u001b[0m\u001b[1;33m%\u001b[0m\u001b[0mresult2\u001b[0m\u001b[1;33m)\u001b[0m\u001b[1;33m\u001b[0m\u001b[1;33m\u001b[0m\u001b[0m\n\u001b[0m",
      "\u001b[1;31mTypeError\u001b[0m: must be real number, not list"
     ]
    }
   ],
   "source": [
    "print(\"%.2f\"%result2)"
   ]
  },
  {
   "cell_type": "code",
   "execution_count": 49,
   "id": "884fdbe0",
   "metadata": {},
   "outputs": [
    {
     "name": "stdout",
     "output_type": "stream",
     "text": [
      "<generator object <genexpr> at 0x000001BEA21EF4A0>\n"
     ]
    }
   ],
   "source": [
    "print(round(i,2) for i in result2)            # to solve this issue we need to mention result in list or tuple or set."
   ]
  },
  {
   "cell_type": "code",
   "execution_count": 50,
   "id": "2771417c",
   "metadata": {},
   "outputs": [
    {
     "name": "stdout",
     "output_type": "stream",
     "text": [
      "(12.57, 28.27, 50.27, 78.54, 113.1, 153.94, 201.06, 254.47, 314.16)\n"
     ]
    }
   ],
   "source": [
    "print(tuple(round(i,2) for i in result2))"
   ]
  },
  {
   "cell_type": "code",
   "execution_count": null,
   "id": "84e6c927",
   "metadata": {},
   "outputs": [],
   "source": []
  }
 ],
 "metadata": {
  "kernelspec": {
   "display_name": "Python 3",
   "language": "python",
   "name": "python3"
  },
  "language_info": {
   "codemirror_mode": {
    "name": "ipython",
    "version": 3
   },
   "file_extension": ".py",
   "mimetype": "text/x-python",
   "name": "python",
   "nbconvert_exporter": "python",
   "pygments_lexer": "ipython3",
   "version": "3.8.8"
  }
 },
 "nbformat": 4,
 "nbformat_minor": 5
}
